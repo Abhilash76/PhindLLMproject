{
 "cells": [
  {
   "cell_type": "code",
   "execution_count": 3,
   "id": "2158d7c5",
   "metadata": {
    "ExecuteTime": {
     "end_time": "2023-12-28T14:21:24.920108Z",
     "start_time": "2023-12-28T14:20:43.777462700Z"
    }
   },
   "outputs": [
    {
     "name": "stdout",
     "output_type": "stream",
     "text": [
      "WARNING:tensorflow:From C:\\Users\\Abhilash\\PhindLLMproject\\venv\\lib\\site-packages\\keras\\src\\losses.py:2976: The name tf.losses.sparse_softmax_cross_entropy is deprecated. Please use tf.compat.v1.losses.sparse_softmax_cross_entropy instead.\n"
     ]
    },
    {
     "name": "stderr",
     "output_type": "stream",
     "text": [
      "`AnnotionFormat` is deprecated and will be removed in v4.38. Please use `transformers.image_utils.AnnotationFormat` instead.\n"
     ]
    }
   ],
   "source": [
    "import tensorflow as tf\n",
    "import torch\n",
    "from transformers import pipeline"
   ]
  },
  {
   "cell_type": "code",
   "execution_count": 4,
   "id": "104730a4",
   "metadata": {
    "ExecuteTime": {
     "end_time": "2023-12-28T14:21:25.226349800Z",
     "start_time": "2023-12-28T14:21:24.934487700Z"
    }
   },
   "outputs": [
    {
     "name": "stdout",
     "output_type": "stream",
     "text": [
      "tf.Tensor(-697.8948, shape=(), dtype=float32)\n",
      "True\n"
     ]
    }
   ],
   "source": [
    "print(tf.reduce_sum(tf.random.normal([1000, 1000])))\n",
    "print(torch.cuda.is_available())"
   ]
  },
  {
   "cell_type": "code",
   "execution_count": null,
   "id": "25a4f141",
   "metadata": {
    "is_executing": true,
    "ExecuteTime": {
     "start_time": "2023-12-28T14:21:25.233726400Z"
    }
   },
   "outputs": [],
   "source": [
    "pipe = pipeline(\"text-generation\", model=\"mistralai/Mistral-7B-Instruct-v0.2\")"
   ]
  },
  {
   "cell_type": "code",
   "execution_count": null,
   "id": "5fb5bf9e",
   "metadata": {
    "is_executing": true
   },
   "outputs": [],
   "source": [
    "text_content = \"Twinkle twinkle little stars, how I \"\n",
    "# Generate text using the pipeline\n",
    "generated_text = pipe(text_content, num_return_sequences=1)\n",
    "print(generated_text)"
   ]
  },
  {
   "cell_type": "code",
   "execution_count": null,
   "outputs": [],
   "source": [],
   "metadata": {
    "collapsed": false
   },
   "id": "f52c07004fc46aa2"
  }
 ],
 "metadata": {
  "kernelspec": {
   "display_name": "Python 3 (ipykernel)",
   "language": "python",
   "name": "python3"
  },
  "language_info": {
   "codemirror_mode": {
    "name": "ipython",
    "version": 3
   },
   "file_extension": ".py",
   "mimetype": "text/x-python",
   "name": "python",
   "nbconvert_exporter": "python",
   "pygments_lexer": "ipython3",
   "version": "3.11.5"
  }
 },
 "nbformat": 4,
 "nbformat_minor": 5
}
